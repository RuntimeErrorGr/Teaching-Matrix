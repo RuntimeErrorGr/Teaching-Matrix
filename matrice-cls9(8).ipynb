{
 "cells": [
  {
   "cell_type": "markdown",
   "metadata": {},
   "source": [
    "# Matrice - clasa a 9-a - 28.03.2025"
   ]
  },
  {
   "cell_type": "markdown",
   "metadata": {},
   "source": [
    "# Obiective\n",
    "\n",
    "1.  Noțiuni teoretice.\n",
    "2.  Declarare, initializare matrice. Algoritmi fundamentali: citire, afisare. \n",
    "3.  Matricea transpusă.\n",
    "4.  Submatrice."
   ]
  },
  {
   "cell_type": "raw",
   "metadata": {},
   "source": [
    "⚠️ Erori comune:\n",
    "Inversarea indicilor pentru elementele unei matrice sau tablou. \n",
    "E ușor să  inversezi  i cu j în expresia A[i][j] astfel că trebuie sa fiți atenți când scrieți. \n",
    "Luați în considerare și folosirea de nume  sugestive pentru variabile!\n"
   ]
  },
  {
   "cell_type": "markdown",
   "metadata": {},
   "source": [
    "## Noțiuni teoretice\n",
    "\n",
    "Matricea este o colecţie omogenă şi bidimensională de elemente. Acestea pot fi accesate prin intermediul a doi indici, numerotaţi, ca şi în cazul vectorilor, începand de la 0. Declaraţia unei matrice este de forma: \n",
    "\n",
    "`<tip_elemente> <nume_matrice>[<dim_1>][<dim_2>];`\n",
    "\n",
    "De exemplu, avem:\n",
    "\n",
    "```\n",
    "int mat[5][10];\n",
    "```"
   ]
  },
  {
   "cell_type": "markdown",
   "metadata": {},
   "source": [
    "### Output și input\n",
    "\n",
    "`std::cout` și `std::cin` sunt redirectate către notebook frontend"
   ]
  },
  {
   "cell_type": "code",
   "execution_count": 2,
   "metadata": {},
   "outputs": [],
   "source": [
    "#include <iostream>\n",
    "using namespace std;"
   ]
  },
  {
   "cell_type": "code",
   "execution_count": null,
   "metadata": {},
   "outputs": [],
   "source": [
    "int x;\n",
    "cout << \"x = \" << endl;\n",
    "cin >> x;\n",
    "cout << \"Valoarea citita pentru x este: \" << x;"
   ]
  },
  {
   "cell_type": "markdown",
   "metadata": {},
   "source": [
    "### Citire matrice"
   ]
  },
  {
   "cell_type": "code",
   "execution_count": 4,
   "metadata": {},
   "outputs": [],
   "source": [
    "int MAX = 10;"
   ]
  },
  {
   "cell_type": "code",
   "execution_count": null,
   "metadata": {},
   "outputs": [],
   "source": [
    "int noLines, noCols;\n",
    "\n",
    "cout << \"Numar linii = \" << endl;\n",
    "cin >> noLines;\n",
    "\n",
    "cout << \"Numar coloane = \" << endl;\n",
    "cin >> noCols;"
   ]
  },
  {
   "cell_type": "code",
   "execution_count": 6,
   "metadata": {},
   "outputs": [],
   "source": [
    "void citeste(int matrice[10][10], int noLines, int noCols) {\n",
    "    for (int i = 1; i <= noLines; ++i) {\n",
    "        for (int j = 1; j <= noCols; ++j) {\n",
    "            cout << \"M[\" << i << \"][\" << j << \"] = \";\n",
    "            cin >> matrice[i-1][j-1];\n",
    "        }\n",
    "    }\n",
    "}"
   ]
  },
  {
   "cell_type": "markdown",
   "metadata": {},
   "source": [
    "**Q: Ce trebuia sa se afiseze?**"
   ]
  },
  {
   "cell_type": "markdown",
   "metadata": {},
   "source": [
    "### Afisare matrice"
   ]
  },
  {
   "cell_type": "code",
   "execution_count": 11,
   "metadata": {},
   "outputs": [],
   "source": [
    "void afiseaza(int matrice[10][10], int noLines, int noCols) {\n",
    "    cout << endl;\n",
    "    for (int i = 1; i <= noLines; i++) {\n",
    "        for (int j = 1; j <= noCols; j++) {\n",
    "            cout << matrice[i-1][j-1] << \" \";\n",
    "        }\n",
    "        cout << endl;\n",
    "    }\n",
    "}"
   ]
  },
  {
   "cell_type": "markdown",
   "metadata": {},
   "source": [
    "**Q: Ce trebuia sa se afiseze?**"
   ]
  },
  {
   "cell_type": "markdown",
   "metadata": {},
   "source": [
    "## Test citire/afisare"
   ]
  },
  {
   "cell_type": "code",
   "execution_count": null,
   "metadata": {},
   "outputs": [],
   "source": [
    "int n, m;\n",
    "\n",
    "cout << \"Nr. linii = \";\n",
    "cin >> n;\n",
    "\n",
    "cout << \"Nr. coloane = \";\n",
    "cin >> m;"
   ]
  },
  {
   "cell_type": "code",
   "execution_count": null,
   "metadata": {},
   "outputs": [],
   "source": [
    "int M[10][10];\n",
    "\n",
    "citeste(M, n, m);\n",
    "afiseaza(M, n, m);"
   ]
  },
  {
   "cell_type": "markdown",
   "metadata": {},
   "source": [
    "## Exerciții"
   ]
  },
  {
   "cell_type": "markdown",
   "metadata": {},
   "source": [
    "1. Inspectați următoarea bucată de cod. Ce se va afișa pentru input **n=3**? Dar pentru **n=100**? Justificați."
   ]
  },
  {
   "cell_type": "code",
   "execution_count": 60,
   "metadata": {},
   "outputs": [],
   "source": [
    "#include <iostream>\n",
    "using namespace std;"
   ]
  },
  {
   "cell_type": "code",
   "execution_count": null,
   "metadata": {},
   "outputs": [],
   "source": [
    "int unit[10][10];\n",
    "int i, j, n;\n",
    "int M = 20;\n",
    "\n",
    "cout << \"nr. linii/coloane: \";\n",
    "cin >> n;"
   ]
  },
  {
   "cell_type": "code",
   "execution_count": null,
   "metadata": {},
   "outputs": [],
   "source": [
    "if (n > M) {\n",
    "    cout << \"nr de linii/ coloane depaseste capacitatea declarata\";\n",
    "} else {\n",
    "    for (i = 1; i <= n; i++) {\n",
    "          for (j = 1; j <= n; j++) {\n",
    "            if (i != j) {\n",
    "                unit[i-1][j-1] = 0;\n",
    "            } else {\n",
    "                unit[i-1][j-1] = 1;\n",
    "            }\n",
    "          }\n",
    "    }\n",
    "    afiseaza(unit, n, n);\n",
    "}\n",
    "\n"
   ]
  },
  {
   "cell_type": "markdown",
   "metadata": {},
   "source": [
    "2. Următorul program ar trebui să citească și să afișeze o matrice. \\\n",
    "a) Compilați și rulați. Ce observați?"
   ]
  },
  {
   "cell_type": "code",
   "execution_count": 104,
   "metadata": {},
   "outputs": [],
   "source": [
    "#include <iostream>\n",
    "using namespace std;"
   ]
  },
  {
   "cell_type": "code",
   "execution_count": 105,
   "metadata": {},
   "outputs": [],
   "source": [
    "void read_matrix(int a[10][10], int& n) {\n",
    "    cout << \"nr. linii/coloane: \";\n",
    "\tcin >> n;\n",
    "\tfor (int i = 1; i <= n; i++) {\n",
    "    \t  for (int j = 1; j <= n; j++) {\n",
    "        \tcout << \"A[\" << i << \"][\" << j << \"] = \";\n",
    "            cin >> a[i-1][j-1];\n",
    "    \t  }\n",
    "\t}\n",
    "}"
   ]
  },
  {
   "cell_type": "code",
   "execution_count": null,
   "metadata": {},
   "outputs": [],
   "source": [
    "int a[10][10], n;\n",
    "read_matrix(a, n);\n",
    "\n",
    "cout << \"MATRICEA CITITA ESTE:\" << endl;\n",
    "afiseaza(a, n, n);"
   ]
  },
  {
   "cell_type": "markdown",
   "metadata": {},
   "source": [
    "b) Folosind `cout`, afișați după apelul `read_matrix` valoarea lui `n` și a lui `a[0][0]`."
   ]
  },
  {
   "cell_type": "code",
   "execution_count": null,
   "metadata": {},
   "outputs": [],
   "source": [
    "int a[10][10], n;\n",
    "read_matrix(a, n);\n",
    "\n",
    "cout << \"n=\" << n << endl;\n",
    "cout << \"a[0][0]=\" << a[0][0] << endl;"
   ]
  },
  {
   "cell_type": "markdown",
   "metadata": {},
   "source": [
    "c) Identificați problema și rezolvați-o."
   ]
  },
  {
   "cell_type": "code",
   "execution_count": 120,
   "metadata": {},
   "outputs": [],
   "source": [
    "// solutii ?"
   ]
  },
  {
   "cell_type": "code",
   "execution_count": null,
   "metadata": {},
   "outputs": [],
   "source": []
  },
  {
   "cell_type": "markdown",
   "metadata": {},
   "source": [
    "3. Citiți de la tastatură o matrice. Afișați matricea transpusă.\n",
    "```\n",
    "Exemplu:\n",
    "Input:\n",
    "        2 4\t\t// număr de linii urmat de număr de coloane\n",
    "        1 2 3 4\n",
    "\t\t5 6 7 8\n",
    "\n",
    "Output:\n",
    "        1 5\n",
    "\t\t2 6\n",
    "\t\t3 7\n",
    "\t\t4 8\n",
    "```"
   ]
  },
  {
   "cell_type": "code",
   "execution_count": 14,
   "metadata": {},
   "outputs": [],
   "source": [
    "#include <iostream>\n",
    "using namespace std;"
   ]
  },
  {
   "cell_type": "code",
   "execution_count": 15,
   "metadata": {},
   "outputs": [],
   "source": [
    "void citeste(int matrice[10][10], int noLines, int noCols) {\n",
    "    for (int i = 1; i <= noLines; ++i) {\n",
    "        for (int j = 1; j <= noCols; ++j) {\n",
    "            cout << \"M[\" << i << \"][\" << j << \"] = \";\n",
    "            cin >> matrice[i-1][j-1];\n",
    "        }\n",
    "    }\n",
    "}"
   ]
  },
  {
   "cell_type": "code",
   "execution_count": 16,
   "metadata": {},
   "outputs": [],
   "source": [
    "void afiseaza(int matrice[10][10], int noLines, int noCols) {\n",
    "    cout << endl;\n",
    "    for (int i = 1; i <= noLines; i++) {\n",
    "        for (int j = 1; j <= noCols; j++) {\n",
    "            cout << matrice[i-1][j-1] << \" \";\n",
    "        }\n",
    "        cout << endl;\n",
    "    }\n",
    "}"
   ]
  },
  {
   "cell_type": "code",
   "execution_count": 119,
   "metadata": {},
   "outputs": [],
   "source": [
    "void transpune(int matrice[10][10], int noLines, int noCols) {\n",
    "    // TODO\n",
    "}"
   ]
  },
  {
   "cell_type": "code",
   "execution_count": null,
   "metadata": {},
   "outputs": [],
   "source": [
    "int n, m;\n",
    "\n",
    "cout << \"Nr. linii = \";\n",
    "cin >> n;\n",
    "\n",
    "cout << \"Nr. coloane = \";\n",
    "cin >> m;"
   ]
  },
  {
   "cell_type": "code",
   "execution_count": null,
   "metadata": {},
   "outputs": [],
   "source": [
    "int M[10][10];\n",
    "\n",
    "citeste(M, n, m);"
   ]
  },
  {
   "cell_type": "code",
   "execution_count": null,
   "metadata": {},
   "outputs": [],
   "source": [
    "transpune(M, n, m);\n",
    "afiseaza(M, m, n);"
   ]
  },
  {
   "cell_type": "markdown",
   "metadata": {},
   "source": [
    "4. Se citesc două matrice de la tastatură. Verificați dacă a prima matrice este submatrice a celei de a doua matrice.\n",
    "   \n",
    "   ```\n",
    "   Exemplul 1:\n",
    "   Input:  2 2\t\t// număr de linii urmat de număr de coloane\n",
    "           1 2\n",
    "           3 4\n",
    "\n",
    "           2 2\t\t// număr de linii urmat de număr de coloane\n",
    "           5 6\n",
    "           7 8\n",
    "    Output: Fals\n",
    "    \n",
    "    Exemplul 2:\n",
    "    Input:  2 2      // număr de linii urmat de număr de coloane\n",
    "            1 2\n",
    "    \t\t3 4\n",
    "\n",
    "    \t\t3 3\t\t// număr de linii urmat de număr de coloane\n",
    "            5 6 4\n",
    "    \t\t1 2 5\n",
    "    \t\t3 4 6\n",
    "   ```\n",
    "   Output: Adevarat"
   ]
  },
  {
   "cell_type": "code",
   "execution_count": 7,
   "metadata": {},
   "outputs": [],
   "source": [
    "#include <iostream>\n",
    "using namespace std;"
   ]
  },
  {
   "cell_type": "code",
   "execution_count": 2,
   "metadata": {},
   "outputs": [],
   "source": [
    "void citeste(int matrice[10][10], int noLines, int noCols) {\n",
    "    for (int i = 1; i <= noLines; ++i) {\n",
    "        for (int j = 1; j <= noCols; ++j) {\n",
    "            cout << \"M[\" << i << \"][\" << j << \"] = \";\n",
    "            cin >> matrice[i-1][j-1];\n",
    "        }\n",
    "    }\n",
    "}"
   ]
  },
  {
   "cell_type": "code",
   "execution_count": 3,
   "metadata": {},
   "outputs": [],
   "source": [
    "void afiseaza(int matrice[10][10], int noLines, int noCols) {\n",
    "    cout << endl;\n",
    "    for (int i = 1; i <= noLines; i++) {\n",
    "        for (int j = 1; j <= noCols; j++) {\n",
    "            cout << matrice[i-1][j-1] << \" \";\n",
    "        }\n",
    "        cout << endl;\n",
    "    }\n",
    "}"
   ]
  },
  {
   "cell_type": "code",
   "execution_count": null,
   "metadata": {},
   "outputs": [],
   "source": [
    "cout << \"Size of bool: \" << sizeof(bool) << \" byte(s)\" << endl;"
   ]
  },
  {
   "cell_type": "code",
   "execution_count": 20,
   "metadata": {},
   "outputs": [],
   "source": [
    "bool is_submatrix(int A[10][10], int noLinesA, int noColsA, int B[10][10], int noLinesB, int noColsB) {\n",
    "\n",
    "}"
   ]
  },
  {
   "cell_type": "code",
   "execution_count": 5,
   "metadata": {},
   "outputs": [],
   "source": [
    "int A[10][10];\n",
    "int B[10][10];"
   ]
  },
  {
   "cell_type": "code",
   "execution_count": null,
   "metadata": {
    "scrolled": true
   },
   "outputs": [],
   "source": [
    "int noLinesA, noColsA;\n",
    "cout << \"PRIMA MATRICE\" << endl;\n",
    "cout << \"Nr. linii = \";\n",
    "cin >> noLinesA;\n",
    "\n",
    "cout << \"Nr. coloane = \";\n",
    "cin >> noColsA;"
   ]
  },
  {
   "cell_type": "code",
   "execution_count": null,
   "metadata": {},
   "outputs": [],
   "source": [
    "citeste(A, noLinesA, noColsA);\n",
    "afiseaza(A, noLinesA, noColsA);"
   ]
  },
  {
   "cell_type": "code",
   "execution_count": null,
   "metadata": {},
   "outputs": [],
   "source": [
    "int noLinesB, noColsB;\n",
    "\n",
    "cout << \"A 2-a MATRICE\" << endl;\n",
    "cout << \"Nr. linii = \";\n",
    "cin >> noLinesB;\n",
    "\n",
    "cout << \"Nr. coloane = \";\n",
    "cin >> noColsB;"
   ]
  },
  {
   "cell_type": "code",
   "execution_count": null,
   "metadata": {},
   "outputs": [],
   "source": [
    "citeste(B, noLinesB, noColsB);\n",
    "afiseaza(B, noLinesB, noColsB);"
   ]
  },
  {
   "cell_type": "code",
   "execution_count": 21,
   "metadata": {},
   "outputs": [
    {
     "name": "stdout",
     "output_type": "stream",
     "text": [
      "Adevarat\n"
     ]
    }
   ],
   "source": [
    "if (is_submatrix(A, noLinesA, noColsA, B, noLinesB, noColsB)) {\n",
    "        cout << \"Adevarat\" << endl;\n",
    "    } else {\n",
    "        cout << \"Fals\" << endl;\n",
    "}"
   ]
  },
  {
   "cell_type": "markdown",
   "metadata": {},
   "source": [
    "(Bonus) Se citește o matrice A. Obțineți B cu proprietatea că `B[i][j] = max(A[0..i][0..j])`, unde `max(A[0..i][0..j])` înseamnă elementul maxim din submatricea A care are colțul stânga sus în `A[0][0]` și colțul dreapta jos în `A[i][j]`.\n",
    "\n",
    "```\n",
    "Exemplu:\n",
    "Input:  3 4\t\t// număr de linii urmat de număr de coloane\n",
    "        1 2 5 2 \n",
    "\t\t6 3 9 8\n",
    "\t\t4 0 4 5\n",
    "\n",
    "Output:\n",
    "        1 2 5 5\n",
    "\t\t6 6 9 9\n",
    "\t\t6 6 9 9\n",
    "```\n"
   ]
  },
  {
   "cell_type": "code",
   "execution_count": null,
   "metadata": {},
   "outputs": [],
   "source": [
    "int noLinesA, noColsA;\n",
    "int A[10][10];\n",
    "cout << \"PRIMA MATRICE\" << endl;\n",
    "cout << \"Nr. linii = \";\n",
    "cin >> noLinesA;\n",
    "\n",
    "cout << \"Nr. coloane = \";\n",
    "cin >> noColsA;\n",
    "\n",
    "citeste(A, noLinesA, noColsA);\n",
    "afiseaza(A, noLinesA, noColsA);"
   ]
  },
  {
   "cell_type": "code",
   "execution_count": 10,
   "metadata": {},
   "outputs": [],
   "source": [
    "void max_submatrice(int A[10][10], int n, int m) {\n",
    "    int B[10][10];\n",
    "\n",
    "    // init primul element stanga sus\n",
    "\n",
    "    // init prima linie (max depinde doar de elementul din stanga)\n",
    "\n",
    "    // init prima coloana (max depinde doar de elementul de deasupra)\n",
    "\n",
    "    // umplem matricea cu relatia de recurenta\n",
    "\n",
    "    afiseaza(B, n, m);\n",
    "}"
   ]
  },
  {
   "cell_type": "code",
   "execution_count": null,
   "metadata": {},
   "outputs": [],
   "source": [
    "max_submatrice(A, noLinesA, noColsA);"
   ]
  },
  {
   "cell_type": "markdown",
   "metadata": {},
   "source": [
    "# Recap\n",
    "\n",
    "1. Variabile trebuie sa aiba nume sugestive.\n",
    "2. Fiecare functie indeplineste un singur rol.\n",
    "3. ⚠️ **Pasarea prin valoare vs pasarea prin referinta.**\n",
    "4. Dupa ce rezolvati o problema ganditi-va daca solutia mai poate fi optimizata."
   ]
  }
 ],
 "metadata": {
  "kernelspec": {
   "display_name": "C++17",
   "language": "C++17",
   "name": "xcpp17"
  },
  "language_info": {
   "codemirror_mode": "text/x-c++src",
   "file_extension": ".cpp",
   "mimetype": "text/x-c++src",
   "name": "c++",
   "version": "17"
  }
 },
 "nbformat": 4,
 "nbformat_minor": 4
}
